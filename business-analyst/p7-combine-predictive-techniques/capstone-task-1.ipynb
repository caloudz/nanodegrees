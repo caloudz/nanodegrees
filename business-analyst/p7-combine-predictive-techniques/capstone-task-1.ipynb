{
 "cells": [
  {
   "cell_type": "code",
   "execution_count": 1,
   "metadata": {},
   "outputs": [],
   "source": [
    "import seaborn as sns\n",
    "sns.set()\n",
    "\n",
    "import matplotlib.pyplot as plt\n",
    "plt.rcParams[\"figure.figsize\"] = (12,8)\n",
    "\n",
    "# Suppress warnings \n",
    "import warnings\n",
    "warnings.filterwarnings('ignore')\n",
    "warnings.filterwarnings('ignore', category=DeprecationWarning) \n",
    "\n",
    "import pandas as pd\n",
    "import numpy as np\n",
    "\n",
    "random_seed = 3"
   ]
  },
  {
   "cell_type": "code",
   "execution_count": 2,
   "metadata": {},
   "outputs": [
    {
     "data": {
      "text/plain": [
       "(116232, 13)"
      ]
     },
     "execution_count": 2,
     "metadata": {},
     "output_type": "execute_result"
    }
   ],
   "source": [
    "sales = pd.read_csv('data/storesalesdata.csv')\n",
    "sales.shape"
   ]
  },
  {
   "cell_type": "code",
   "execution_count": 3,
   "metadata": {},
   "outputs": [
    {
     "data": {
      "text/plain": [
       "(95, 6)"
      ]
     },
     "execution_count": 3,
     "metadata": {},
     "output_type": "execute_result"
    }
   ],
   "source": [
    "info = pd.read_csv('data/storeinformation.csv')\n",
    "info.shape"
   ]
  },
  {
   "cell_type": "code",
   "execution_count": 4,
   "metadata": {},
   "outputs": [
    {
     "data": {
      "text/plain": [
       "(95, 45)"
      ]
     },
     "execution_count": 4,
     "metadata": {},
     "output_type": "execute_result"
    }
   ],
   "source": [
    "demo = pd.read_csv('data/storedemographicdata.csv')\n",
    "demo.shape"
   ]
  },
  {
   "cell_type": "markdown",
   "metadata": {},
   "source": [
    "---"
   ]
  },
  {
   "cell_type": "markdown",
   "metadata": {},
   "source": [
    "# Data Preparation"
   ]
  },
  {
   "cell_type": "code",
   "execution_count": 5,
   "metadata": {
    "scrolled": true
   },
   "outputs": [
    {
     "data": {
      "text/plain": [
       "Existing    85\n",
       "New         10\n",
       "Name: Type, dtype: int64"
      ]
     },
     "execution_count": 5,
     "metadata": {},
     "output_type": "execute_result"
    }
   ],
   "source": [
    "info.Type.value_counts()"
   ]
  },
  {
   "cell_type": "code",
   "execution_count": 6,
   "metadata": {},
   "outputs": [
    {
     "data": {
      "text/plain": [
       "(85, 6)"
      ]
     },
     "execution_count": 6,
     "metadata": {},
     "output_type": "execute_result"
    }
   ],
   "source": [
    "stores_exist = info[info.Type == 'Existing']\n",
    "stores_exist.shape"
   ]
  },
  {
   "cell_type": "code",
   "execution_count": 7,
   "metadata": {},
   "outputs": [
    {
     "data": {
      "text/plain": [
       "(10, 6)"
      ]
     },
     "execution_count": 7,
     "metadata": {},
     "output_type": "execute_result"
    }
   ],
   "source": [
    "stores_new = info[info.Type == 'New']\n",
    "stores_new.shape"
   ]
  },
  {
   "cell_type": "code",
   "execution_count": 8,
   "metadata": {},
   "outputs": [
    {
     "data": {
      "text/plain": [
       "0"
      ]
     },
     "execution_count": 8,
     "metadata": {},
     "output_type": "execute_result"
    }
   ],
   "source": [
    "pd.merge(sales, stores_new, on='Store').shape[0]"
   ]
  },
  {
   "cell_type": "markdown",
   "metadata": {},
   "source": [
    "The sales data only includes sales from existing stores - that makes intuitive sense!"
   ]
  },
  {
   "cell_type": "markdown",
   "metadata": {},
   "source": [
    "# Task 1: Segmentation - Determining Store Format\n",
    "\n",
    "Your company currently has 85 grocery stores and is planning to open 10 new stores at the beginning of the year. Currently, all stores use the same store format for selling their products. Up until now, the company has treated all stores similarly, shipping the same amount of product to each store. This is beginning to cause problems as stores are suffering from product surpluses in some product categories and shortages in others. You've been asked to provide analytical support to make decisions about store formats and inventory planning.\n",
    "\n",
    "To remedy the product surplus and shortages, the company wants to introduce different store formats. Each store format will have a different product selection in order to better match local demand. The actual building sizes will not change, just the product selection and internal layouts. The terms formats and segments will be used interchangeably throughout this project. You’ve been asked to:\n",
    "\n",
    "* Determine the optimal number of store formats based on sales data.\n",
    "    * Sum sales data by StoreID and Year\n",
    "    * Use percentage sales per category per store for clustering (category sales as a percentage of total store sales).\n",
    "    * Use only 2015 sales data.\n",
    "    * Use a K-means clustering model.\n",
    "* Segment the 85 current stores into the different store formats.\n",
    "* Use the StoreSalesData.csv and StoreInformation.csv files.\n",
    "\n",
    "**Note:** PCA is not used in this project.\n",
    "\n",
    "## Task 1 Submission\n",
    "\n",
    "1. What is the optimal number of store formats? How did you arrive at that number?\n",
    "2. How many stores fall into each store format?\n",
    "\n",
    "Based on the results of the clustering model, what is one way that the clusters differ from one another?\n",
    "Please provide a map created in Tableau that shows the location of the existing stores, uses color to show cluster, and size to show total sales. Make sure to include a legend! Feel free to simply copy and paste the map into the submission template."
   ]
  },
  {
   "cell_type": "markdown",
   "metadata": {},
   "source": [
    "Let's filter on sales data from 2015 only."
   ]
  },
  {
   "cell_type": "code",
   "execution_count": 9,
   "metadata": {},
   "outputs": [
    {
     "data": {
      "text/plain": [
       "(30933, 13)"
      ]
     },
     "execution_count": 9,
     "metadata": {},
     "output_type": "execute_result"
    }
   ],
   "source": [
    "sales_2015 = sales[sales.Year == 2015]\n",
    "sales_2015.shape"
   ]
  },
  {
   "cell_type": "markdown",
   "metadata": {},
   "source": [
    "For the next step, we sum the sales data by StoreID, based on year 2015."
   ]
  },
  {
   "cell_type": "code",
   "execution_count": 10,
   "metadata": {},
   "outputs": [
    {
     "data": {
      "text/plain": [
       "(85, 9)"
      ]
     },
     "execution_count": 10,
     "metadata": {},
     "output_type": "execute_result"
    }
   ],
   "source": [
    "sales_2015_sum = sales_2015.groupby(['Store']).agg(sum).iloc[:,3:]\n",
    "sales_2015_sum.shape"
   ]
  },
  {
   "cell_type": "code",
   "execution_count": 11,
   "metadata": {},
   "outputs": [
    {
     "data": {
      "text/html": [
       "<div>\n",
       "<style scoped>\n",
       "    .dataframe tbody tr th:only-of-type {\n",
       "        vertical-align: middle;\n",
       "    }\n",
       "\n",
       "    .dataframe tbody tr th {\n",
       "        vertical-align: top;\n",
       "    }\n",
       "\n",
       "    .dataframe thead th {\n",
       "        text-align: right;\n",
       "    }\n",
       "</style>\n",
       "<table border=\"1\" class=\"dataframe\">\n",
       "  <thead>\n",
       "    <tr style=\"text-align: right;\">\n",
       "      <th></th>\n",
       "      <th>Dry_Grocery</th>\n",
       "      <th>Dairy</th>\n",
       "      <th>Frozen_Food</th>\n",
       "      <th>Meat</th>\n",
       "      <th>Produce</th>\n",
       "      <th>Floral</th>\n",
       "      <th>Deli</th>\n",
       "      <th>Bakery</th>\n",
       "      <th>General_Merchandise</th>\n",
       "    </tr>\n",
       "    <tr>\n",
       "      <th>Store</th>\n",
       "      <th></th>\n",
       "      <th></th>\n",
       "      <th></th>\n",
       "      <th></th>\n",
       "      <th></th>\n",
       "      <th></th>\n",
       "      <th></th>\n",
       "      <th></th>\n",
       "      <th></th>\n",
       "    </tr>\n",
       "  </thead>\n",
       "  <tbody>\n",
       "    <tr>\n",
       "      <th>S0001</th>\n",
       "      <td>10845787.65</td>\n",
       "      <td>2423389.38</td>\n",
       "      <td>1814872.88</td>\n",
       "      <td>2531382.34</td>\n",
       "      <td>2284388.70</td>\n",
       "      <td>159142.23</td>\n",
       "      <td>1023812.90</td>\n",
       "      <td>835599.06</td>\n",
       "      <td>1590570.68</td>\n",
       "    </tr>\n",
       "    <tr>\n",
       "      <th>S0002</th>\n",
       "      <td>7931072.94</td>\n",
       "      <td>1844188.83</td>\n",
       "      <td>1366677.52</td>\n",
       "      <td>1991807.66</td>\n",
       "      <td>1755293.15</td>\n",
       "      <td>128935.92</td>\n",
       "      <td>689786.42</td>\n",
       "      <td>514864.68</td>\n",
       "      <td>1111992.45</td>\n",
       "    </tr>\n",
       "    <tr>\n",
       "      <th>S0003</th>\n",
       "      <td>12741875.44</td>\n",
       "      <td>3095321.58</td>\n",
       "      <td>2087437.15</td>\n",
       "      <td>3468989.12</td>\n",
       "      <td>3792143.03</td>\n",
       "      <td>291259.69</td>\n",
       "      <td>1262874.27</td>\n",
       "      <td>1091930.44</td>\n",
       "      <td>2408831.27</td>\n",
       "    </tr>\n",
       "    <tr>\n",
       "      <th>S0004</th>\n",
       "      <td>12688533.89</td>\n",
       "      <td>2710746.38</td>\n",
       "      <td>2240847.44</td>\n",
       "      <td>3565375.84</td>\n",
       "      <td>2802811.88</td>\n",
       "      <td>170822.64</td>\n",
       "      <td>1166388.77</td>\n",
       "      <td>962155.82</td>\n",
       "      <td>1606208.31</td>\n",
       "    </tr>\n",
       "    <tr>\n",
       "      <th>S0005</th>\n",
       "      <td>12248085.57</td>\n",
       "      <td>2957003.74</td>\n",
       "      <td>2402445.89</td>\n",
       "      <td>2834435.52</td>\n",
       "      <td>3648309.02</td>\n",
       "      <td>247017.36</td>\n",
       "      <td>984736.25</td>\n",
       "      <td>629055.94</td>\n",
       "      <td>1874796.88</td>\n",
       "    </tr>\n",
       "  </tbody>\n",
       "</table>\n",
       "</div>"
      ],
      "text/plain": [
       "       Dry_Grocery       Dairy  Frozen_Food        Meat     Produce  \\\n",
       "Store                                                                 \n",
       "S0001  10845787.65  2423389.38   1814872.88  2531382.34  2284388.70   \n",
       "S0002   7931072.94  1844188.83   1366677.52  1991807.66  1755293.15   \n",
       "S0003  12741875.44  3095321.58   2087437.15  3468989.12  3792143.03   \n",
       "S0004  12688533.89  2710746.38   2240847.44  3565375.84  2802811.88   \n",
       "S0005  12248085.57  2957003.74   2402445.89  2834435.52  3648309.02   \n",
       "\n",
       "          Floral        Deli      Bakery  General_Merchandise  \n",
       "Store                                                          \n",
       "S0001  159142.23  1023812.90   835599.06           1590570.68  \n",
       "S0002  128935.92   689786.42   514864.68           1111992.45  \n",
       "S0003  291259.69  1262874.27  1091930.44           2408831.27  \n",
       "S0004  170822.64  1166388.77   962155.82           1606208.31  \n",
       "S0005  247017.36   984736.25   629055.94           1874796.88  "
      ]
     },
     "execution_count": 11,
     "metadata": {},
     "output_type": "execute_result"
    }
   ],
   "source": [
    "sales_2015_sum.head()"
   ]
  },
  {
   "cell_type": "markdown",
   "metadata": {},
   "source": [
    "We will use the percentage sales per category per store for clustering."
   ]
  },
  {
   "cell_type": "code",
   "execution_count": 12,
   "metadata": {},
   "outputs": [],
   "source": [
    "sales_2015_perc = sales_2015_sum.div(sales_2015_sum.sum(axis=1), axis=0)"
   ]
  },
  {
   "cell_type": "code",
   "execution_count": 13,
   "metadata": {},
   "outputs": [
    {
     "data": {
      "text/html": [
       "<div>\n",
       "<style scoped>\n",
       "    .dataframe tbody tr th:only-of-type {\n",
       "        vertical-align: middle;\n",
       "    }\n",
       "\n",
       "    .dataframe tbody tr th {\n",
       "        vertical-align: top;\n",
       "    }\n",
       "\n",
       "    .dataframe thead th {\n",
       "        text-align: right;\n",
       "    }\n",
       "</style>\n",
       "<table border=\"1\" class=\"dataframe\">\n",
       "  <thead>\n",
       "    <tr style=\"text-align: right;\">\n",
       "      <th></th>\n",
       "      <th>Dry_Grocery</th>\n",
       "      <th>Dairy</th>\n",
       "      <th>Frozen_Food</th>\n",
       "      <th>Meat</th>\n",
       "      <th>Produce</th>\n",
       "      <th>Floral</th>\n",
       "      <th>Deli</th>\n",
       "      <th>Bakery</th>\n",
       "      <th>General_Merchandise</th>\n",
       "    </tr>\n",
       "    <tr>\n",
       "      <th>Store</th>\n",
       "      <th></th>\n",
       "      <th></th>\n",
       "      <th></th>\n",
       "      <th></th>\n",
       "      <th></th>\n",
       "      <th></th>\n",
       "      <th></th>\n",
       "      <th></th>\n",
       "      <th></th>\n",
       "    </tr>\n",
       "  </thead>\n",
       "  <tbody>\n",
       "    <tr>\n",
       "      <th>S0001</th>\n",
       "      <td>0.461347</td>\n",
       "      <td>0.103084</td>\n",
       "      <td>0.077199</td>\n",
       "      <td>0.107677</td>\n",
       "      <td>0.097171</td>\n",
       "      <td>0.006769</td>\n",
       "      <td>0.043550</td>\n",
       "      <td>0.035544</td>\n",
       "      <td>0.067658</td>\n",
       "    </tr>\n",
       "    <tr>\n",
       "      <th>S0002</th>\n",
       "      <td>0.457528</td>\n",
       "      <td>0.106388</td>\n",
       "      <td>0.078841</td>\n",
       "      <td>0.114903</td>\n",
       "      <td>0.101259</td>\n",
       "      <td>0.007438</td>\n",
       "      <td>0.039792</td>\n",
       "      <td>0.029702</td>\n",
       "      <td>0.064149</td>\n",
       "    </tr>\n",
       "    <tr>\n",
       "      <th>S0003</th>\n",
       "      <td>0.421349</td>\n",
       "      <td>0.102356</td>\n",
       "      <td>0.069027</td>\n",
       "      <td>0.114713</td>\n",
       "      <td>0.125399</td>\n",
       "      <td>0.009631</td>\n",
       "      <td>0.041761</td>\n",
       "      <td>0.036108</td>\n",
       "      <td>0.079655</td>\n",
       "    </tr>\n",
       "    <tr>\n",
       "      <th>S0004</th>\n",
       "      <td>0.454560</td>\n",
       "      <td>0.097111</td>\n",
       "      <td>0.080277</td>\n",
       "      <td>0.127728</td>\n",
       "      <td>0.100409</td>\n",
       "      <td>0.006120</td>\n",
       "      <td>0.041785</td>\n",
       "      <td>0.034469</td>\n",
       "      <td>0.057542</td>\n",
       "    </tr>\n",
       "    <tr>\n",
       "      <th>S0005</th>\n",
       "      <td>0.440169</td>\n",
       "      <td>0.106268</td>\n",
       "      <td>0.086339</td>\n",
       "      <td>0.101863</td>\n",
       "      <td>0.131112</td>\n",
       "      <td>0.008877</td>\n",
       "      <td>0.035389</td>\n",
       "      <td>0.022607</td>\n",
       "      <td>0.067376</td>\n",
       "    </tr>\n",
       "  </tbody>\n",
       "</table>\n",
       "</div>"
      ],
      "text/plain": [
       "       Dry_Grocery     Dairy  Frozen_Food      Meat   Produce    Floral  \\\n",
       "Store                                                                     \n",
       "S0001     0.461347  0.103084     0.077199  0.107677  0.097171  0.006769   \n",
       "S0002     0.457528  0.106388     0.078841  0.114903  0.101259  0.007438   \n",
       "S0003     0.421349  0.102356     0.069027  0.114713  0.125399  0.009631   \n",
       "S0004     0.454560  0.097111     0.080277  0.127728  0.100409  0.006120   \n",
       "S0005     0.440169  0.106268     0.086339  0.101863  0.131112  0.008877   \n",
       "\n",
       "           Deli    Bakery  General_Merchandise  \n",
       "Store                                           \n",
       "S0001  0.043550  0.035544             0.067658  \n",
       "S0002  0.039792  0.029702             0.064149  \n",
       "S0003  0.041761  0.036108             0.079655  \n",
       "S0004  0.041785  0.034469             0.057542  \n",
       "S0005  0.035389  0.022607             0.067376  "
      ]
     },
     "execution_count": 13,
     "metadata": {},
     "output_type": "execute_result"
    }
   ],
   "source": [
    "sales_2015_perc.head()"
   ]
  },
  {
   "cell_type": "code",
   "execution_count": 14,
   "metadata": {},
   "outputs": [
    {
     "data": {
      "text/html": [
       "<div>\n",
       "<style scoped>\n",
       "    .dataframe tbody tr th:only-of-type {\n",
       "        vertical-align: middle;\n",
       "    }\n",
       "\n",
       "    .dataframe tbody tr th {\n",
       "        vertical-align: top;\n",
       "    }\n",
       "\n",
       "    .dataframe thead th {\n",
       "        text-align: right;\n",
       "    }\n",
       "</style>\n",
       "<table border=\"1\" class=\"dataframe\">\n",
       "  <thead>\n",
       "    <tr style=\"text-align: right;\">\n",
       "      <th></th>\n",
       "      <th>count</th>\n",
       "      <th>mean</th>\n",
       "      <th>std</th>\n",
       "      <th>min</th>\n",
       "      <th>25%</th>\n",
       "      <th>50%</th>\n",
       "      <th>75%</th>\n",
       "      <th>max</th>\n",
       "    </tr>\n",
       "  </thead>\n",
       "  <tbody>\n",
       "    <tr>\n",
       "      <th>Dry_Grocery</th>\n",
       "      <td>85.0</td>\n",
       "      <td>0.448090</td>\n",
       "      <td>0.016482</td>\n",
       "      <td>0.413319</td>\n",
       "      <td>0.438117</td>\n",
       "      <td>0.445549</td>\n",
       "      <td>0.459835</td>\n",
       "      <td>0.494458</td>\n",
       "    </tr>\n",
       "    <tr>\n",
       "      <th>Dairy</th>\n",
       "      <td>85.0</td>\n",
       "      <td>0.102356</td>\n",
       "      <td>0.005927</td>\n",
       "      <td>0.090722</td>\n",
       "      <td>0.098192</td>\n",
       "      <td>0.101905</td>\n",
       "      <td>0.106080</td>\n",
       "      <td>0.122190</td>\n",
       "    </tr>\n",
       "    <tr>\n",
       "      <th>Frozen_Food</th>\n",
       "      <td>85.0</td>\n",
       "      <td>0.078934</td>\n",
       "      <td>0.005052</td>\n",
       "      <td>0.063373</td>\n",
       "      <td>0.075503</td>\n",
       "      <td>0.078841</td>\n",
       "      <td>0.082141</td>\n",
       "      <td>0.094408</td>\n",
       "    </tr>\n",
       "    <tr>\n",
       "      <th>Meat</th>\n",
       "      <td>85.0</td>\n",
       "      <td>0.111315</td>\n",
       "      <td>0.012313</td>\n",
       "      <td>0.086198</td>\n",
       "      <td>0.104836</td>\n",
       "      <td>0.109581</td>\n",
       "      <td>0.117167</td>\n",
       "      <td>0.159218</td>\n",
       "    </tr>\n",
       "    <tr>\n",
       "      <th>Produce</th>\n",
       "      <td>85.0</td>\n",
       "      <td>0.109626</td>\n",
       "      <td>0.014413</td>\n",
       "      <td>0.073948</td>\n",
       "      <td>0.100387</td>\n",
       "      <td>0.109022</td>\n",
       "      <td>0.117936</td>\n",
       "      <td>0.148003</td>\n",
       "    </tr>\n",
       "    <tr>\n",
       "      <th>Floral</th>\n",
       "      <td>85.0</td>\n",
       "      <td>0.008158</td>\n",
       "      <td>0.002305</td>\n",
       "      <td>0.003532</td>\n",
       "      <td>0.006509</td>\n",
       "      <td>0.007912</td>\n",
       "      <td>0.009299</td>\n",
       "      <td>0.016254</td>\n",
       "    </tr>\n",
       "    <tr>\n",
       "      <th>Deli</th>\n",
       "      <td>85.0</td>\n",
       "      <td>0.040461</td>\n",
       "      <td>0.004972</td>\n",
       "      <td>0.027159</td>\n",
       "      <td>0.037658</td>\n",
       "      <td>0.040397</td>\n",
       "      <td>0.043480</td>\n",
       "      <td>0.051568</td>\n",
       "    </tr>\n",
       "    <tr>\n",
       "      <th>Bakery</th>\n",
       "      <td>85.0</td>\n",
       "      <td>0.027986</td>\n",
       "      <td>0.006671</td>\n",
       "      <td>0.015882</td>\n",
       "      <td>0.022743</td>\n",
       "      <td>0.028239</td>\n",
       "      <td>0.031726</td>\n",
       "      <td>0.047304</td>\n",
       "    </tr>\n",
       "    <tr>\n",
       "      <th>General_Merchandise</th>\n",
       "      <td>85.0</td>\n",
       "      <td>0.073074</td>\n",
       "      <td>0.014307</td>\n",
       "      <td>0.049732</td>\n",
       "      <td>0.063327</td>\n",
       "      <td>0.068768</td>\n",
       "      <td>0.079655</td>\n",
       "      <td>0.108992</td>\n",
       "    </tr>\n",
       "  </tbody>\n",
       "</table>\n",
       "</div>"
      ],
      "text/plain": [
       "                     count      mean       std       min       25%       50%  \\\n",
       "Dry_Grocery           85.0  0.448090  0.016482  0.413319  0.438117  0.445549   \n",
       "Dairy                 85.0  0.102356  0.005927  0.090722  0.098192  0.101905   \n",
       "Frozen_Food           85.0  0.078934  0.005052  0.063373  0.075503  0.078841   \n",
       "Meat                  85.0  0.111315  0.012313  0.086198  0.104836  0.109581   \n",
       "Produce               85.0  0.109626  0.014413  0.073948  0.100387  0.109022   \n",
       "Floral                85.0  0.008158  0.002305  0.003532  0.006509  0.007912   \n",
       "Deli                  85.0  0.040461  0.004972  0.027159  0.037658  0.040397   \n",
       "Bakery                85.0  0.027986  0.006671  0.015882  0.022743  0.028239   \n",
       "General_Merchandise   85.0  0.073074  0.014307  0.049732  0.063327  0.068768   \n",
       "\n",
       "                          75%       max  \n",
       "Dry_Grocery          0.459835  0.494458  \n",
       "Dairy                0.106080  0.122190  \n",
       "Frozen_Food          0.082141  0.094408  \n",
       "Meat                 0.117167  0.159218  \n",
       "Produce              0.117936  0.148003  \n",
       "Floral               0.009299  0.016254  \n",
       "Deli                 0.043480  0.051568  \n",
       "Bakery               0.031726  0.047304  \n",
       "General_Merchandise  0.079655  0.108992  "
      ]
     },
     "execution_count": 14,
     "metadata": {},
     "output_type": "execute_result"
    }
   ],
   "source": [
    "sales_2015_perc.describe().T"
   ]
  },
  {
   "cell_type": "markdown",
   "metadata": {},
   "source": [
    "Finally, let's standardize the fields using z-score."
   ]
  },
  {
   "cell_type": "code",
   "execution_count": 15,
   "metadata": {},
   "outputs": [],
   "source": [
    "from sklearn.preprocessing import StandardScaler\n",
    "scaler = StandardScaler()"
   ]
  },
  {
   "cell_type": "code",
   "execution_count": 16,
   "metadata": {},
   "outputs": [
    {
     "data": {
      "text/plain": [
       "(85, 9)"
      ]
     },
     "execution_count": 16,
     "metadata": {},
     "output_type": "execute_result"
    }
   ],
   "source": [
    "sales_2015_scaled = pd.DataFrame(scaler.fit_transform(sales_2015_perc), index=sales_2015_perc.index, columns=sales_2015_perc.columns)\n",
    "sales_2015_scaled.shape"
   ]
  },
  {
   "cell_type": "code",
   "execution_count": 17,
   "metadata": {},
   "outputs": [
    {
     "data": {
      "text/html": [
       "<div>\n",
       "<style scoped>\n",
       "    .dataframe tbody tr th:only-of-type {\n",
       "        vertical-align: middle;\n",
       "    }\n",
       "\n",
       "    .dataframe tbody tr th {\n",
       "        vertical-align: top;\n",
       "    }\n",
       "\n",
       "    .dataframe thead th {\n",
       "        text-align: right;\n",
       "    }\n",
       "</style>\n",
       "<table border=\"1\" class=\"dataframe\">\n",
       "  <thead>\n",
       "    <tr style=\"text-align: right;\">\n",
       "      <th></th>\n",
       "      <th>Dry_Grocery</th>\n",
       "      <th>Dairy</th>\n",
       "      <th>Frozen_Food</th>\n",
       "      <th>Meat</th>\n",
       "      <th>Produce</th>\n",
       "      <th>Floral</th>\n",
       "      <th>Deli</th>\n",
       "      <th>Bakery</th>\n",
       "      <th>General_Merchandise</th>\n",
       "    </tr>\n",
       "    <tr>\n",
       "      <th>Store</th>\n",
       "      <th></th>\n",
       "      <th></th>\n",
       "      <th></th>\n",
       "      <th></th>\n",
       "      <th></th>\n",
       "      <th></th>\n",
       "      <th></th>\n",
       "      <th></th>\n",
       "      <th></th>\n",
       "    </tr>\n",
       "  </thead>\n",
       "  <tbody>\n",
       "    <tr>\n",
       "      <th>S0001</th>\n",
       "      <td>0.809075</td>\n",
       "      <td>0.123437</td>\n",
       "      <td>-0.345390</td>\n",
       "      <td>-0.297199</td>\n",
       "      <td>-0.869242</td>\n",
       "      <td>-0.605960</td>\n",
       "      <td>0.624934</td>\n",
       "      <td>1.139692</td>\n",
       "      <td>-0.380775</td>\n",
       "    </tr>\n",
       "    <tr>\n",
       "      <th>S0002</th>\n",
       "      <td>0.575979</td>\n",
       "      <td>0.684180</td>\n",
       "      <td>-0.018513</td>\n",
       "      <td>0.293169</td>\n",
       "      <td>-0.583907</td>\n",
       "      <td>-0.314143</td>\n",
       "      <td>-0.135248</td>\n",
       "      <td>0.258721</td>\n",
       "      <td>-0.627521</td>\n",
       "    </tr>\n",
       "    <tr>\n",
       "      <th>S0003</th>\n",
       "      <td>-1.632047</td>\n",
       "      <td>-0.000024</td>\n",
       "      <td>-1.972473</td>\n",
       "      <td>0.277587</td>\n",
       "      <td>1.100833</td>\n",
       "      <td>0.643122</td>\n",
       "      <td>0.262976</td>\n",
       "      <td>1.224759</td>\n",
       "      <td>0.462742</td>\n",
       "    </tr>\n",
       "    <tr>\n",
       "      <th>S0004</th>\n",
       "      <td>0.394833</td>\n",
       "      <td>-0.890256</td>\n",
       "      <td>0.267452</td>\n",
       "      <td>1.340907</td>\n",
       "      <td>-0.643243</td>\n",
       "      <td>-0.889562</td>\n",
       "      <td>0.267921</td>\n",
       "      <td>0.977567</td>\n",
       "      <td>-1.092061</td>\n",
       "    </tr>\n",
       "    <tr>\n",
       "      <th>S0005</th>\n",
       "      <td>-0.483467</td>\n",
       "      <td>0.663894</td>\n",
       "      <td>1.474338</td>\n",
       "      <td>-0.772215</td>\n",
       "      <td>1.499572</td>\n",
       "      <td>0.313982</td>\n",
       "      <td>-1.026059</td>\n",
       "      <td>-0.811087</td>\n",
       "      <td>-0.400609</td>\n",
       "    </tr>\n",
       "  </tbody>\n",
       "</table>\n",
       "</div>"
      ],
      "text/plain": [
       "       Dry_Grocery     Dairy  Frozen_Food      Meat   Produce    Floral  \\\n",
       "Store                                                                     \n",
       "S0001     0.809075  0.123437    -0.345390 -0.297199 -0.869242 -0.605960   \n",
       "S0002     0.575979  0.684180    -0.018513  0.293169 -0.583907 -0.314143   \n",
       "S0003    -1.632047 -0.000024    -1.972473  0.277587  1.100833  0.643122   \n",
       "S0004     0.394833 -0.890256     0.267452  1.340907 -0.643243 -0.889562   \n",
       "S0005    -0.483467  0.663894     1.474338 -0.772215  1.499572  0.313982   \n",
       "\n",
       "           Deli    Bakery  General_Merchandise  \n",
       "Store                                           \n",
       "S0001  0.624934  1.139692            -0.380775  \n",
       "S0002 -0.135248  0.258721            -0.627521  \n",
       "S0003  0.262976  1.224759             0.462742  \n",
       "S0004  0.267921  0.977567            -1.092061  \n",
       "S0005 -1.026059 -0.811087            -0.400609  "
      ]
     },
     "execution_count": 17,
     "metadata": {},
     "output_type": "execute_result"
    }
   ],
   "source": [
    "sales_2015_scaled.head()"
   ]
  },
  {
   "cell_type": "markdown",
   "metadata": {},
   "source": [
    "## K-means clustering model"
   ]
  },
  {
   "cell_type": "code",
   "execution_count": 18,
   "metadata": {},
   "outputs": [],
   "source": [
    "from sklearn.cluster import KMeans"
   ]
  },
  {
   "cell_type": "markdown",
   "metadata": {},
   "source": [
    "### Decide on optimum number of clusters `K`\n",
    "\n",
    "The main input for k-means clustering is the number of clusters. This is derived using the concept of minimizing within cluster sum of square (WCSS). A scree plot is created which plots the number of clusters in the X axis and the WCSS for each cluster number in the y-axis.\n",
    "\n",
    "As the number of clusters increase, the WCSS keeps decreasing. The decrease of WCSS is initially steep and then the rate of decrease slows down resulting in an elbow plot. The number of clusters at the elbow formation usually gives an indication on the optimum number of clusters. This combined with specific knowledge of the business requirement should be used to decide on the optimum number of clusters."
   ]
  },
  {
   "cell_type": "code",
   "execution_count": 19,
   "metadata": {},
   "outputs": [],
   "source": [
    "X1 = sales_2015_scaled.iloc[: , :].values\n",
    "inertia = []\n",
    "for n in range(1 , 11):\n",
    "    algorithm = (KMeans(n_clusters = n ,init='k-means++', n_init = 10 ,max_iter=300, \n",
    "                        tol=0.0001,  random_state= 111  , algorithm='elkan') )\n",
    "    algorithm.fit(X1)\n",
    "    inertia.append(algorithm.inertia_)"
   ]
  },
  {
   "cell_type": "code",
   "execution_count": 20,
   "metadata": {},
   "outputs": [
    {
     "data": {
      "image/png": "[encoded data removed]",
      "text/plain": [
       "<Figure size 1080x432 with 1 Axes>"
      ]
     },
     "metadata": {
      "needs_background": "light"
     },
     "output_type": "display_data"
    }
   ],
   "source": [
    "plt.figure(1 , figsize = (15 ,6))\n",
    "plt.plot(np.arange(1 , 11) , inertia , 'o')\n",
    "plt.plot(np.arange(1 , 11) , inertia , '-' , alpha = 0.5)\n",
    "plt.xlabel('Number of Clusters') , plt.ylabel('Inertia/WCSS')\n",
    "#plt.savefig('elbow.png')\n",
    "plt.show()"
   ]
  },
  {
   "cell_type": "code",
   "execution_count": 21,
   "metadata": {},
   "outputs": [],
   "source": [
    "from sklearn.metrics import silhouette_score, calinski_harabaz_score"
   ]
  },
  {
   "cell_type": "code",
   "execution_count": 22,
   "metadata": {},
   "outputs": [],
   "source": [
    "def get_score(n_clusters, data, method):\n",
    "    kmeans = KMeans(n_clusters=n_clusters, random_state=0)\n",
    "    kmeans.fit(data)\n",
    "    preds = kmeans.predict(data)\n",
    "    centers = kmeans.cluster_centers_\n",
    "    \n",
    "    if method == 'sil':\n",
    "        score = silhouette_score(data, preds)\n",
    "        print(\"silhouette coefficient for `{}` clusters => {:.4f}\".format(n_clusters, score))\n",
    "        \n",
    "    elif method == 'ch':\n",
    "        score = calinski_harabaz_score(data, preds)\n",
    "        print(\"calinski harabaz score for `{}` clusters => {:.4f}\".format(n_clusters, score))\n",
    "        \n",
    "    else:\n",
    "        print('Sorry, please choose a different metric, for example sil or ch.')"
   ]
  },
  {
   "cell_type": "code",
   "execution_count": 23,
   "metadata": {},
   "outputs": [
    {
     "name": "stdout",
     "output_type": "stream",
     "text": [
      "silhouette coefficient for `2` clusters => 0.1897\n",
      "silhouette coefficient for `3` clusters => 0.1859\n",
      "silhouette coefficient for `4` clusters => 0.1900\n",
      "silhouette coefficient for `5` clusters => 0.1875\n",
      "silhouette coefficient for `6` clusters => 0.1896\n",
      "silhouette coefficient for `7` clusters => 0.1842\n",
      "silhouette coefficient for `8` clusters => 0.2071\n",
      "silhouette coefficient for `9` clusters => 0.1933\n",
      "silhouette coefficient for `10` clusters => 0.2175\n",
      "\n",
      "calinski harabaz score for `2` clusters => 23.0636\n",
      "calinski harabaz score for `3` clusters => 20.1706\n",
      "calinski harabaz score for `4` clusters => 18.0870\n",
      "calinski harabaz score for `5` clusters => 17.5966\n",
      "calinski harabaz score for `6` clusters => 16.1231\n",
      "calinski harabaz score for `7` clusters => 15.8650\n",
      "calinski harabaz score for `8` clusters => 16.1190\n",
      "calinski harabaz score for `9` clusters => 15.4935\n",
      "calinski harabaz score for `10` clusters => 15.8214\n"
     ]
    }
   ],
   "source": [
    "clusters_range = range(2,11)\n",
    "for i in clusters_range:\n",
    "    get_score(i, sales_2015_scaled, 'sil')\n",
    "\n",
    "print()\n",
    "\n",
    "for i in clusters_range:\n",
    "    get_score(i, sales_2015_scaled, 'ch')"
   ]
  },
  {
   "cell_type": "markdown",
   "metadata": {},
   "source": [
    "This method looks at the percentage of variance explained as a function of the number of clusters: One should choose a number of clusters so that adding another cluster doesn't give much better modeling of the data. More precisely, if one plots the percentage of variance explained by the clusters against the number of clusters, the first clusters will add much information (explain a lot of variance), but at some point the marginal gain will drop, giving an angle in the graph. The number of clusters is chosen at this point, hence the \"elbow criterion\". This \"elbow\" cannot always be unambiguously identified. Percentage of variance explained is the ratio of the between-group variance to the total variance, also known as an F-test. A slight variation of this method plots the curvature of the within group variance.\n",
    "\n",
    "* Based on Elbow method, we could choose 3 or 4 clusters.\n",
    "\n",
    "The silhouette of a sample is a mean value of silhouette values from this sample. Therefore, the silhouette distance shows to which extent the distance between the objects of the same class differ from the mean distance between the objects from different clusters. This coefficient takes values in the  [−1,1]  range. Values close to -1 correspond to bad clustering results while values closer to 1 correspond to dense, well-defined clusters. Therefore, the higher the silhouette value is, the better the results from clustering.\n",
    "\n",
    "* Based on silhouette coefficient, 3 has the best score.\n",
    "\n",
    "Calinski Harabaz score is also known as the Variance Ratio Criterion. The score is defined as ratio between the within-cluster dispersion and the between-cluster dispersion. There is no \"acceptable\" cut-off value. You simply compare CH values by eye. The higher the value, the \"better\" is the solution. If on the line-plot of CH values there appears that one solution give peak or at least abrupt elbow, choose it. If, on the contrary, the line is smooth - horizontal or ascending or descending - then there is no reason to prefer one solution to others. CH criterion is based on ANOVA ideology. Hence, it implies that the clustered objects lie in Euclidean space of scale (not ordinal or binary or nominal) variables. If the data clustered were not objects X variables but a matrix of dissimilarities between objects then the dissimilarity measure should be (squared) euclidean distance (or, at worse, other metric distance approaching euclidean distance by properties).\n",
    "\n",
    "* Based on Calinski Harabaz Score, 3 has the best score.\n",
    "\n",
    "We cannot use the adjusted rand score here, since we are not working with a dataset that has a target variable, so we cannot compute true from predicted. See documentation: https://scikit-learn.org/stable/modules/generated/sklearn.metrics.adjusted_rand_score.html\n",
    "\n",
    "**The optimal number of store formats is, in this case, 3.**"
   ]
  },
  {
   "cell_type": "code",
   "execution_count": 24,
   "metadata": {},
   "outputs": [],
   "source": [
    "kmeans = KMeans(n_clusters = 3,\n",
    "                init = 'k-means++',            # selects initial cluster centers for k-mean clustering in a smart way to speed up convergence\n",
    "                n_init = 50,                   # number of iterations for clustering)\n",
    "                max_iter = 500,                # maximum number of iterations of the k-means algorithm for a single run\n",
    "                tol = 0.0001,                  # relative tolerance with regards to inertia to declare convergence\n",
    "                random_state = random_seed,\n",
    "                n_jobs = 1,                    # number of cpu cores to use\n",
    "               )"
   ]
  },
  {
   "cell_type": "code",
   "execution_count": 25,
   "metadata": {},
   "outputs": [
    {
     "data": {
      "text/plain": [
       "KMeans(algorithm='auto', copy_x=True, init='k-means++', max_iter=500,\n",
       "    n_clusters=3, n_init=50, n_jobs=1, precompute_distances='auto',\n",
       "    random_state=3, tol=0.0001, verbose=0)"
      ]
     },
     "execution_count": 25,
     "metadata": {},
     "output_type": "execute_result"
    }
   ],
   "source": [
    "kmeans.fit(sales_2015_scaled)"
   ]
  },
  {
   "cell_type": "code",
   "execution_count": 26,
   "metadata": {},
   "outputs": [
    {
     "data": {
      "text/plain": [
       "array([2, 2, 3, 2, 3, 2, 2, 3, 2, 3, 2, 2, 2, 1, 1, 2, 3, 2, 1, 3, 3, 2,\n",
       "       3, 1, 2, 3, 3, 2, 2, 2, 1, 1, 3, 3, 2, 1, 1, 3, 2, 2, 2, 2, 3, 2,\n",
       "       1, 3, 1, 1, 3, 3, 3, 3, 2, 3, 1, 3, 2, 2, 2, 2, 2, 1, 3, 3, 3, 1,\n",
       "       2, 3, 3, 1, 2, 2, 3, 2, 2, 3, 3, 3, 2, 1, 3, 2, 3, 1, 3],\n",
       "      dtype=int32)"
      ]
     },
     "execution_count": 26,
     "metadata": {},
     "output_type": "execute_result"
    }
   ],
   "source": [
    "clusters = kmeans.predict(sales_2015_scaled) + 1\n",
    "clusters"
   ]
  },
  {
   "cell_type": "code",
   "execution_count": 27,
   "metadata": {},
   "outputs": [],
   "source": [
    "sales_2015_scaled['cluster'] = clusters\n",
    "sales_2015_perc['cluster'] = clusters"
   ]
  },
  {
   "cell_type": "code",
   "execution_count": 28,
   "metadata": {},
   "outputs": [],
   "source": [
    "agg = {\n",
    "    'Store': 'count',\n",
    "    'Dry_Grocery': 'mean',\n",
    "    'Dairy': 'mean',\n",
    "    'Frozen_Food': 'mean',\n",
    "    'Meat': 'mean',\n",
    "    'Produce': 'mean',\n",
    "    'Floral': 'mean',\n",
    "    'Deli': 'mean',\n",
    "    'Bakery': 'mean',\n",
    "    'General_Merchandise': 'mean',\n",
    "}"
   ]
  },
  {
   "cell_type": "code",
   "execution_count": 29,
   "metadata": {},
   "outputs": [
    {
     "data": {
      "text/html": [
       "<div>\n",
       "<style scoped>\n",
       "    .dataframe tbody tr th:only-of-type {\n",
       "        vertical-align: middle;\n",
       "    }\n",
       "\n",
       "    .dataframe tbody tr th {\n",
       "        vertical-align: top;\n",
       "    }\n",
       "\n",
       "    .dataframe thead th {\n",
       "        text-align: right;\n",
       "    }\n",
       "</style>\n",
       "<table border=\"1\" class=\"dataframe\">\n",
       "  <thead>\n",
       "    <tr style=\"text-align: right;\">\n",
       "      <th></th>\n",
       "      <th>Store</th>\n",
       "      <th>Dry_Grocery</th>\n",
       "      <th>Dairy</th>\n",
       "      <th>Frozen_Food</th>\n",
       "      <th>Meat</th>\n",
       "      <th>Produce</th>\n",
       "      <th>Floral</th>\n",
       "      <th>Deli</th>\n",
       "      <th>Bakery</th>\n",
       "      <th>General_Merchandise</th>\n",
       "    </tr>\n",
       "    <tr>\n",
       "      <th>cluster</th>\n",
       "      <th></th>\n",
       "      <th></th>\n",
       "      <th></th>\n",
       "      <th></th>\n",
       "      <th></th>\n",
       "      <th></th>\n",
       "      <th></th>\n",
       "      <th></th>\n",
       "      <th></th>\n",
       "      <th></th>\n",
       "    </tr>\n",
       "  </thead>\n",
       "  <tbody>\n",
       "    <tr>\n",
       "      <th>1</th>\n",
       "      <td>17</td>\n",
       "      <td>0.458</td>\n",
       "      <td>0.099</td>\n",
       "      <td>0.080</td>\n",
       "      <td>0.103</td>\n",
       "      <td>0.101</td>\n",
       "      <td>0.007</td>\n",
       "      <td>0.038</td>\n",
       "      <td>0.022</td>\n",
       "      <td>0.091</td>\n",
       "    </tr>\n",
       "    <tr>\n",
       "      <th>2</th>\n",
       "      <td>35</td>\n",
       "      <td>0.454</td>\n",
       "      <td>0.100</td>\n",
       "      <td>0.077</td>\n",
       "      <td>0.120</td>\n",
       "      <td>0.101</td>\n",
       "      <td>0.007</td>\n",
       "      <td>0.044</td>\n",
       "      <td>0.029</td>\n",
       "      <td>0.069</td>\n",
       "    </tr>\n",
       "    <tr>\n",
       "      <th>3</th>\n",
       "      <td>33</td>\n",
       "      <td>0.437</td>\n",
       "      <td>0.106</td>\n",
       "      <td>0.081</td>\n",
       "      <td>0.106</td>\n",
       "      <td>0.123</td>\n",
       "      <td>0.010</td>\n",
       "      <td>0.038</td>\n",
       "      <td>0.030</td>\n",
       "      <td>0.068</td>\n",
       "    </tr>\n",
       "  </tbody>\n",
       "</table>\n",
       "</div>"
      ],
      "text/plain": [
       "         Store  Dry_Grocery  Dairy  Frozen_Food   Meat  Produce  Floral  \\\n",
       "cluster                                                                   \n",
       "1           17        0.458  0.099        0.080  0.103    0.101   0.007   \n",
       "2           35        0.454  0.100        0.077  0.120    0.101   0.007   \n",
       "3           33        0.437  0.106        0.081  0.106    0.123   0.010   \n",
       "\n",
       "          Deli  Bakery  General_Merchandise  \n",
       "cluster                                      \n",
       "1        0.038   0.022                0.091  \n",
       "2        0.044   0.029                0.069  \n",
       "3        0.038   0.030                0.068  "
      ]
     },
     "execution_count": 29,
     "metadata": {},
     "output_type": "execute_result"
    }
   ],
   "source": [
    "agg = round(sales_2015_perc.reset_index().groupby(['cluster']).agg(agg), 3)\n",
    "agg"
   ]
  },
  {
   "cell_type": "code",
   "execution_count": 30,
   "metadata": {},
   "outputs": [
    {
     "data": {
      "text/plain": [
       "array([[ 0.5857416 , -0.49736975,  0.29863928, -0.63855412, -0.56764269,\n",
       "        -0.33273911, -0.56178673, -0.93037025,  1.22981515],\n",
       "       [ 0.33793645, -0.40106051, -0.47531254,  0.69223838, -0.57716656,\n",
       "        -0.55295567,  0.74220778,  0.10276315, -0.28638552],\n",
       "       [-0.66016311,  0.68158798,  0.35027488, -0.4052401 ,  0.90456834,\n",
       "         0.75787919, -0.49778478,  0.37029042, -0.32979892]])"
      ]
     },
     "execution_count": 30,
     "metadata": {},
     "output_type": "execute_result"
    }
   ],
   "source": [
    "centroids = kmeans.cluster_centers_\n",
    "centroids"
   ]
  },
  {
   "cell_type": "markdown",
   "metadata": {},
   "source": [
    "Let's look at the distances between the three cluster centers."
   ]
  },
  {
   "cell_type": "code",
   "execution_count": 31,
   "metadata": {},
   "outputs": [],
   "source": [
    "from sklearn.metrics.pairwise import euclidean_distances\n",
    "\n",
    "dists = euclidean_distances(centroids)\n",
    "tri_dists = dists[np.triu_indices(3, 1)]\n",
    "max_dist, avg_dist, min_dist = tri_dists.max(), tri_dists.mean(), tri_dists.min()"
   ]
  },
  {
   "cell_type": "code",
   "execution_count": 32,
   "metadata": {},
   "outputs": [
    {
     "name": "stdout",
     "output_type": "stream",
     "text": [
      "Max distance: 3.2379600984807366\n",
      "Mean distance: 3.0272658531439003\n",
      "Min distance: 2.748801515304544\n"
     ]
    }
   ],
   "source": [
    "print('Max distance: ' + str(max_dist))\n",
    "print('Mean distance: ' + str(avg_dist))\n",
    "print('Min distance: ' + str(min_dist))"
   ]
  },
  {
   "cell_type": "markdown",
   "metadata": {},
   "source": [
    "Now let's look at some statistics from all the datapoint distances to the respective cluster centers."
   ]
  },
  {
   "cell_type": "code",
   "execution_count": 33,
   "metadata": {},
   "outputs": [],
   "source": [
    "alldist = pd.DataFrame(kmeans.fit_transform(sales_2015_perc), columns=['2', '1', '3'])\n",
    "alldist['cluster'] = clusters"
   ]
  },
  {
   "cell_type": "code",
   "execution_count": 34,
   "metadata": {},
   "outputs": [
    {
     "data": {
      "text/html": [
       "<div>\n",
       "<style scoped>\n",
       "    .dataframe tbody tr th:only-of-type {\n",
       "        vertical-align: middle;\n",
       "    }\n",
       "\n",
       "    .dataframe tbody tr th {\n",
       "        vertical-align: top;\n",
       "    }\n",
       "\n",
       "    .dataframe thead th {\n",
       "        text-align: right;\n",
       "    }\n",
       "</style>\n",
       "<table border=\"1\" class=\"dataframe\">\n",
       "  <thead>\n",
       "    <tr style=\"text-align: right;\">\n",
       "      <th></th>\n",
       "      <th>2</th>\n",
       "      <th>1</th>\n",
       "      <th>3</th>\n",
       "      <th>cluster</th>\n",
       "    </tr>\n",
       "  </thead>\n",
       "  <tbody>\n",
       "    <tr>\n",
       "      <th>0</th>\n",
       "      <td>0.016828</td>\n",
       "      <td>1.000658</td>\n",
       "      <td>1.000411</td>\n",
       "      <td>2</td>\n",
       "    </tr>\n",
       "    <tr>\n",
       "      <th>1</th>\n",
       "      <td>0.011356</td>\n",
       "      <td>1.000485</td>\n",
       "      <td>1.000473</td>\n",
       "      <td>2</td>\n",
       "    </tr>\n",
       "    <tr>\n",
       "      <th>2</th>\n",
       "      <td>1.000944</td>\n",
       "      <td>0.025631</td>\n",
       "      <td>2.000625</td>\n",
       "      <td>3</td>\n",
       "    </tr>\n",
       "    <tr>\n",
       "      <th>3</th>\n",
       "      <td>0.016065</td>\n",
       "      <td>1.000748</td>\n",
       "      <td>1.000936</td>\n",
       "      <td>2</td>\n",
       "    </tr>\n",
       "    <tr>\n",
       "      <th>4</th>\n",
       "      <td>1.000821</td>\n",
       "      <td>0.014261</td>\n",
       "      <td>2.000454</td>\n",
       "      <td>3</td>\n",
       "    </tr>\n",
       "  </tbody>\n",
       "</table>\n",
       "</div>"
      ],
      "text/plain": [
       "          2         1         3  cluster\n",
       "0  0.016828  1.000658  1.000411        2\n",
       "1  0.011356  1.000485  1.000473        2\n",
       "2  1.000944  0.025631  2.000625        3\n",
       "3  0.016065  1.000748  1.000936        2\n",
       "4  1.000821  0.014261  2.000454        3"
      ]
     },
     "execution_count": 34,
     "metadata": {},
     "output_type": "execute_result"
    }
   ],
   "source": [
    "alldist.head()"
   ]
  },
  {
   "cell_type": "code",
   "execution_count": 35,
   "metadata": {},
   "outputs": [],
   "source": [
    "alldist_new = pd.DataFrame(alldist.query('cluster==1')['1'].append(alldist.query('cluster==2')['2']).append(alldist.query('cluster==3')['3'])).sort_index()\n",
    "alldist_new['cluster'] = clusters"
   ]
  },
  {
   "cell_type": "code",
   "execution_count": 36,
   "metadata": {},
   "outputs": [
    {
     "data": {
      "text/html": [
       "<div>\n",
       "<style scoped>\n",
       "    .dataframe tbody tr th:only-of-type {\n",
       "        vertical-align: middle;\n",
       "    }\n",
       "\n",
       "    .dataframe tbody tr th {\n",
       "        vertical-align: top;\n",
       "    }\n",
       "\n",
       "    .dataframe thead th {\n",
       "        text-align: right;\n",
       "    }\n",
       "</style>\n",
       "<table border=\"1\" class=\"dataframe\">\n",
       "  <thead>\n",
       "    <tr style=\"text-align: right;\">\n",
       "      <th></th>\n",
       "      <th>0</th>\n",
       "      <th>cluster</th>\n",
       "    </tr>\n",
       "  </thead>\n",
       "  <tbody>\n",
       "    <tr>\n",
       "      <th>0</th>\n",
       "      <td>0.016828</td>\n",
       "      <td>2</td>\n",
       "    </tr>\n",
       "    <tr>\n",
       "      <th>1</th>\n",
       "      <td>0.011356</td>\n",
       "      <td>2</td>\n",
       "    </tr>\n",
       "    <tr>\n",
       "      <th>2</th>\n",
       "      <td>2.000625</td>\n",
       "      <td>3</td>\n",
       "    </tr>\n",
       "    <tr>\n",
       "      <th>3</th>\n",
       "      <td>0.016065</td>\n",
       "      <td>2</td>\n",
       "    </tr>\n",
       "    <tr>\n",
       "      <th>4</th>\n",
       "      <td>2.000454</td>\n",
       "      <td>3</td>\n",
       "    </tr>\n",
       "  </tbody>\n",
       "</table>\n",
       "</div>"
      ],
      "text/plain": [
       "          0  cluster\n",
       "0  0.016828        2\n",
       "1  0.011356        2\n",
       "2  2.000625        3\n",
       "3  0.016065        2\n",
       "4  2.000454        3"
      ]
     },
     "execution_count": 36,
     "metadata": {},
     "output_type": "execute_result"
    }
   ],
   "source": [
    "alldist_new.head()"
   ]
  },
  {
   "cell_type": "code",
   "execution_count": 37,
   "metadata": {},
   "outputs": [
    {
     "data": {
      "text/html": [
       "<div>\n",
       "<style scoped>\n",
       "    .dataframe tbody tr th:only-of-type {\n",
       "        vertical-align: middle;\n",
       "    }\n",
       "\n",
       "    .dataframe tbody tr th {\n",
       "        vertical-align: top;\n",
       "    }\n",
       "\n",
       "    .dataframe thead th {\n",
       "        text-align: right;\n",
       "    }\n",
       "</style>\n",
       "<table border=\"1\" class=\"dataframe\">\n",
       "  <thead>\n",
       "    <tr style=\"text-align: right;\">\n",
       "      <th></th>\n",
       "      <th>min</th>\n",
       "      <th>mean</th>\n",
       "      <th>max</th>\n",
       "    </tr>\n",
       "    <tr>\n",
       "      <th>cluster</th>\n",
       "      <th></th>\n",
       "      <th></th>\n",
       "      <th></th>\n",
       "    </tr>\n",
       "  </thead>\n",
       "  <tbody>\n",
       "    <tr>\n",
       "      <th>1</th>\n",
       "      <td>2.000148</td>\n",
       "      <td>2.000552</td>\n",
       "      <td>2.001111</td>\n",
       "    </tr>\n",
       "    <tr>\n",
       "      <th>2</th>\n",
       "      <td>0.010532</td>\n",
       "      <td>0.022871</td>\n",
       "      <td>0.053213</td>\n",
       "    </tr>\n",
       "    <tr>\n",
       "      <th>3</th>\n",
       "      <td>2.000149</td>\n",
       "      <td>2.000513</td>\n",
       "      <td>2.001318</td>\n",
       "    </tr>\n",
       "  </tbody>\n",
       "</table>\n",
       "</div>"
      ],
      "text/plain": [
       "              min      mean       max\n",
       "cluster                              \n",
       "1        2.000148  2.000552  2.001111\n",
       "2        0.010532  0.022871  0.053213\n",
       "3        2.000149  2.000513  2.001318"
      ]
     },
     "execution_count": 37,
     "metadata": {},
     "output_type": "execute_result"
    }
   ],
   "source": [
    "agg = {\n",
    "    'mean',\n",
    "    'max',\n",
    "    'min'\n",
    "}\n",
    "alldist_new.groupby(['cluster']).agg(agg)[0]"
   ]
  },
  {
   "cell_type": "markdown",
   "metadata": {},
   "source": [
    "Finally, let's prepare a file for Tableau with all existing stores, the total sales per store and the cluster assigned."
   ]
  },
  {
   "cell_type": "code",
   "execution_count": 38,
   "metadata": {},
   "outputs": [],
   "source": [
    "all_sales = sales.groupby(['Store']).agg(sum).iloc[:,3:]\n",
    "all_sales['cluster'] = sales_2015_scaled['cluster'].values\n",
    "all_sales['Total_Sales'] = all_sales.iloc[:,:9].sum(axis=1)\n",
    "all_sales = all_sales.iloc[:,9:]"
   ]
  },
  {
   "cell_type": "code",
   "execution_count": 39,
   "metadata": {},
   "outputs": [],
   "source": [
    "all_sales.to_csv('all_sales.csv', index=True)"
   ]
  }
 ],
 "metadata": {
  "anaconda-cloud": {},
  "kernelspec": {
   "display_name": "Python 3",
   "language": "python",
   "name": "python3"
  },
  "language_info": {
   "codemirror_mode": {
    "name": "ipython",
    "version": 3
   },
   "file_extension": ".py",
   "mimetype": "text/x-python",
   "name": "python",
   "nbconvert_exporter": "python",
   "pygments_lexer": "ipython3",
   "version": "3.7.1"
  }
 },
 "nbformat": 4,
 "nbformat_minor": 2
}
